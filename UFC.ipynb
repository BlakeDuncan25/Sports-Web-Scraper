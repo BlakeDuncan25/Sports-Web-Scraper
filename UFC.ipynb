{
 "cells": [
  {
   "cell_type": "code",
   "execution_count": 1,
   "metadata": {},
   "outputs": [],
   "source": [
    "import pandas as pd\n",
    "import numpy as np\n",
    "from scipy import stats\n",
    "from sklearn.linear_model import LogisticRegression"
   ]
  },
  {
   "cell_type": "code",
   "execution_count": 2,
   "metadata": {},
   "outputs": [],
   "source": [
    "df = pd.read_csv(\"/Users/blakeduncan/Downloads/Sports - UFC.csv\")"
   ]
  },
  {
   "cell_type": "code",
   "execution_count": 3,
   "metadata": {},
   "outputs": [
    {
     "name": "stdout",
     "output_type": "stream",
     "text": [
      "0.7522891688167148\n",
      "[-0.85059206]\n",
      "[[ 0.01457171 -0.01049592  0.04651146  0.01895245  0.10287558 -0.05419099\n",
      "  -0.74053858 -0.67845742  1.86699112  1.76616639 -0.40308423 -0.01778193]]\n"
     ]
    }
   ],
   "source": [
    "X = df[\n",
    "    [\n",
    "        \"SUM STR\",\n",
    "        \"DIFF STR\",\n",
    "        \"SUM TD\",\n",
    "        \"DIFF TD\",\n",
    "        \"SUM SUB\",\n",
    "        \"DIFF SUB\",\n",
    "        \"U-DEC\",\n",
    "        \"S-DEC\",\n",
    "        \"KO\",\n",
    "        \"SUB\",\n",
    "        \"ROUNDS\",\n",
    "        \"MINUTES\",\n",
    "    ]\n",
    "]\n",
    "y = df[\"FOTN\"]\n",
    "\n",
    "model = LogisticRegression(max_iter=1000)\n",
    "\n",
    "model.fit(\n",
    "    X=X,\n",
    "    y=y,\n",
    "    sample_weight=np.array(\n",
    "        [\n",
    "            1 / np.mean(df[\"FOTN\"]) if y == 1 else 1 / (1 - np.mean(df[\"FOTN\"]))\n",
    "            for y in df[\"FOTN\"]\n",
    "        ]\n",
    "    ),\n",
    ")\n",
    "\n",
    "accuracy = model.score(\n",
    "    X,\n",
    "    y,\n",
    "    sample_weight=np.array(\n",
    "        [\n",
    "            1 / np.mean(df[\"FOTN\"]) if y == 1 else 1 / (1 - np.mean(df[\"FOTN\"]))\n",
    "            for y in df[\"FOTN\"]\n",
    "        ]\n",
    "    ),\n",
    ")\n",
    "print(accuracy)\n",
    "print(model.intercept_)\n",
    "print(model.coef_)"
   ]
  },
  {
   "cell_type": "code",
   "execution_count": null,
   "metadata": {},
   "outputs": [],
   "source": []
  }
 ],
 "metadata": {
  "kernelspec": {
   "display_name": "Python 3",
   "language": "python",
   "name": "python3"
  },
  "language_info": {
   "codemirror_mode": {
    "name": "ipython",
    "version": 3
   },
   "file_extension": ".py",
   "mimetype": "text/x-python",
   "name": "python",
   "nbconvert_exporter": "python",
   "pygments_lexer": "ipython3",
   "version": "3.7.6"
  }
 },
 "nbformat": 4,
 "nbformat_minor": 4
}
