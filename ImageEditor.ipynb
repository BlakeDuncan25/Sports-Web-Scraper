{
 "cells": [
  {
   "cell_type": "code",
   "execution_count": 19,
   "id": "preceding-wichita",
   "metadata": {},
   "outputs": [],
   "source": [
    "import urllib.request\n",
    "from PIL import Image\n",
    "import pandas as pd"
   ]
  },
  {
   "cell_type": "code",
   "execution_count": 91,
   "id": "thick-thousand",
   "metadata": {},
   "outputs": [],
   "source": [
    "def retrieve_image(player, image_url):\n",
    "    urllib.request.urlretrieve(\n",
    "        image_url,\n",
    "        f\"/Users/blakeduncan/Downloads/{player}.jpg\")\n",
    "    return Image.open(f\"/Users/blakeduncan/Downloads/{player}.jpg\").convert('RGB')\n",
    "\n",
    "def crop_image(pil_img, crop_width, crop_height):\n",
    "    img_width, img_height = pil_img.size\n",
    "    if img_height > img_width:\n",
    "        coordinates = pil_img.crop((0, 0, img_width, crop_height))\n",
    "    else:\n",
    "        coordinates = pil_img.crop(((img_width - crop_width) // 2,\n",
    "                         (img_height - crop_height) // 2,\n",
    "                         (img_width + crop_width) // 2,\n",
    "                         (img_height + crop_height) // 2))\n",
    "    return coordinates\n",
    "\n",
    "def crop_max_square(pil_img):\n",
    "    return crop_image(pil_img, min(pil_img.size), min(pil_img.size))\n",
    "\n",
    "def save_player_thumbnail(player, image_url):\n",
    "    for i in range(len(player)):\n",
    "        img = retrieve_image(player[i], image_url[i])\n",
    "        im_thumb = crop_max_square(img).resize((700, 700), Image.LANCZOS)\n",
    "        im_thumb.save(f\"/Users/blakeduncan/Downloads/{player[i]}.jpg\")"
   ]
  },
  {
   "cell_type": "code",
   "execution_count": 92,
   "id": "victorian-surgery",
   "metadata": {},
   "outputs": [],
   "source": [
    "image_url_csv = pd.read_csv(\"/Users/blakeduncan/Downloads/brumbies.csv\")\n",
    "\n",
    "player = image_url_csv.player.tolist()\n",
    "image_url = image_url_csv.image_url.tolist()\n",
    "\n",
    "save_player_thumbnail(player, image_url)"
   ]
  }
 ],
 "metadata": {
  "kernelspec": {
   "display_name": "Python 3",
   "language": "python",
   "name": "python3"
  },
  "language_info": {
   "codemirror_mode": {
    "name": "ipython",
    "version": 3
   },
   "file_extension": ".py",
   "mimetype": "text/x-python",
   "name": "python",
   "nbconvert_exporter": "python",
   "pygments_lexer": "ipython3",
   "version": "3.7.6"
  }
 },
 "nbformat": 4,
 "nbformat_minor": 5
}
