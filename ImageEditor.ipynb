{
 "cells": [
  {
   "cell_type": "code",
   "execution_count": 16,
   "id": "weird-practitioner",
   "metadata": {},
   "outputs": [],
   "source": [
    "import urllib.request\n",
    "from PIL import Image"
   ]
  },
  {
   "cell_type": "code",
   "execution_count": null,
   "id": "compliant-arthritis",
   "metadata": {},
   "outputs": [],
   "source": [
    "player = \"Alex Hodgman\"\n",
    "image_url = \"https://www.ultimaterugby.com/images/entities/247086-d1ff5f1999-11/AlexHodgmanrugbyplayer.jpg\"\n",
    "thumb_width = 700"
   ]
  },
  {
   "cell_type": "code",
   "execution_count": 17,
   "id": "characteristic-impact",
   "metadata": {},
   "outputs": [],
   "source": [
    "def retrieve_image(player, image_url):\n",
    "    urllib.request.urlretrieve(\n",
    "        image_url,\n",
    "        f\"/Users/blakeduncan/Downloads/{player}.jpg\")\n",
    "    img = Image.open(f\"{player}.jpg\")\n",
    "\n",
    "def crop_center(pil_img, crop_width, crop_height):\n",
    "    img_width, img_height = pil_img.size\n",
    "    return pil_img.crop(((img_width - crop_width) // 2,\n",
    "                         (img_height - crop_height) // 2,\n",
    "                         (img_width + crop_width) // 2,\n",
    "                         (img_height + crop_height) // 2))\n",
    "\n",
    "def crop_max_square(pil_img):\n",
    "    return crop_center(pil_img, min(pil_img.size), min(pil_img.size))"
   ]
  },
  {
   "cell_type": "code",
   "execution_count": 18,
   "id": "affected-paintball",
   "metadata": {},
   "outputs": [],
   "source": [
    "img = retrieve_image(player, image_url)\n",
    "im_thumb = crop_max_square(img).resize((thumb_width, thumb_width), Image.LANCZOS)\n",
    "im_thumb.save(f\"/Users/blakeduncan/Downloads/{player}.jpg\")\n",
    "im_thumb.show()"
   ]
  }
 ],
 "metadata": {
  "kernelspec": {
   "display_name": "Python 3",
   "language": "python",
   "name": "python3"
  },
  "language_info": {
   "codemirror_mode": {
    "name": "ipython",
    "version": 3
   },
   "file_extension": ".py",
   "mimetype": "text/x-python",
   "name": "python",
   "nbconvert_exporter": "python",
   "pygments_lexer": "ipython3",
   "version": "3.7.6"
  }
 },
 "nbformat": 4,
 "nbformat_minor": 5
}
