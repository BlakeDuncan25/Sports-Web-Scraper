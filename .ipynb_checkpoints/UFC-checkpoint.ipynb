{
 "cells": [
  {
   "cell_type": "code",
   "execution_count": 1,
   "metadata": {},
   "outputs": [],
   "source": [
    "import pandas as pd\n",
    "import numpy as np\n",
    "from scipy import stats\n",
    "from sklearn.linear_model import LogisticRegression"
   ]
  },
  {
   "cell_type": "code",
   "execution_count": 2,
   "metadata": {},
   "outputs": [],
   "source": [
    "df = pd.read_csv('/Users/blakeduncan/Downloads/Sports - UFC.csv')"
   ]
  },
  {
   "cell_type": "code",
   "execution_count": 3,
   "metadata": {},
   "outputs": [
    {
     "name": "stdout",
     "output_type": "stream",
     "text": [
      "0.743010752688172\n",
      "[-0.92014158]\n",
      "[[ 1.04301111e-02 -1.34451295e-02  6.00745803e-02  1.84965899e-03\n",
      "   1.59785763e-01  1.34322130e-01 -5.70106605e-02 -7.23565015e-02\n",
      "  -2.60937056e-01 -8.15051680e-01  1.89819975e+00  1.67736098e+00\n",
      "  -1.52730273e-01 -3.41713542e-02]]\n"
     ]
    }
   ],
   "source": [
    "X = df[['SUM STR', 'DIFF STR', 'SUM TD', 'DIFF TD', 'SUM SUB', 'DIFF SUB', 'SUM PASS', 'DIFF PASS',\n",
    "        'U-DEC', 'S-DEC', 'KO', 'SUB', 'ROUNDS', 'MINUTES']]\n",
    "y = df['FOTN']\n",
    "\n",
    "model = LogisticRegression(max_iter=1000)\n",
    "\n",
    "model.fit(\n",
    "    X=X,\n",
    "    y=y,\n",
    "    sample_weight=np.array([1 / np.mean(df['FOTN']) if y == 1 else 1 / (1 - np.mean(df['FOTN'])) for y in df['FOTN']])\n",
    ")\n",
    "\n",
    "accuracy = model.score(X, y, sample_weight=np.array([1 / np.mean(df['FOTN']) if y == 1 else 1 / (1 - np.mean(df['FOTN'])) for y in df['FOTN']]))\n",
    "print(accuracy)\n",
    "print(model.intercept_)\n",
    "print(model.coef_)"
   ]
  }
 ],
 "metadata": {
  "kernelspec": {
   "display_name": "Python 3",
   "language": "python",
   "name": "python3"
  },
  "language_info": {
   "codemirror_mode": {
    "name": "ipython",
    "version": 3
   },
   "file_extension": ".py",
   "mimetype": "text/x-python",
   "name": "python",
   "nbconvert_exporter": "python",
   "pygments_lexer": "ipython3",
   "version": "3.7.6"
  }
 },
 "nbformat": 4,
 "nbformat_minor": 4
}
