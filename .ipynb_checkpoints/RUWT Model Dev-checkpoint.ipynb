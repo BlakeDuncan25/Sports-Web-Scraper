{
 "cells": [
  {
   "cell_type": "code",
   "execution_count": 1,
   "metadata": {},
   "outputs": [],
   "source": [
    "import pandas as pd\n",
    "import numpy as np\n",
    "from scipy import stats\n",
    "from sklearn.linear_model import LogisticRegression\n",
    "\n",
    "def build_sport_model(sport):\n",
    "    df = pd.read_csv('/Users/blakeduncan/Downloads/RUWT.csv')\n",
    "    df = df[df['sport']==sport]\n",
    "    \n",
    "    X = df[['score_diff', 'score_sum']]\n",
    "    y = df['rating']\n",
    "    \n",
    "    model = LogisticRegression()\n",
    "\n",
    "    model.fit(\n",
    "        X=X,\n",
    "        y=y,\n",
    "        sample_weight=np.array([1 / np.mean(df['rating']) if y == 1 else 1 / (1 - np.mean(df['rating'])) for y in df['rating']])\n",
    "    )\n",
    "    \n",
    "    return print(f'IF(E2=\"{sport}\",{float(model.intercept_)} + ({float(np.transpose(model.coef_)[0])} * ABS(F2-G2)) + ({float(np.transpose(model.coef_)[1])} * (F2+G2)),')"
   ]
  },
  {
   "cell_type": "code",
   "execution_count": 2,
   "metadata": {},
   "outputs": [
    {
     "name": "stdout",
     "output_type": "stream",
     "text": [
      "IF(E2=\"NCAAB\",-1.5180935110655103 + (-0.31889928803320594 * ABS(F2-G2)) + (0.02655229199389589 * (F2+G2)),\n",
      "IF(E2=\"NCAABW\",-1.7134140269550981 + (-0.31994053282391244 * ABS(F2-G2)) + (0.03131613386551015 * (F2+G2)),\n",
      "IF(E2=\"MLB\",0.5637261982176619 + (-0.4709784788404457 * ABS(F2-G2)) + (0.07053411480644568 * (F2+G2)),\n",
      "IF(E2=\"NCAAF\",0.4665960494127262 + (-0.21977499670976106 * ABS(F2-G2)) + (0.026960399759579996 * (F2+G2)),\n",
      "IF(E2=\"SOCCER\",-0.395177914967688 + (-0.7300576448296406 * ABS(F2-G2)) + (0.40294616814863815 * (F2+G2)),\n",
      "IF(E2=\"NBA\",-1.5401971294221695 + (-0.3020982976871736 * ABS(F2-G2)) + (0.018293658428590567 * (F2+G2)),\n",
      "IF(E2=\"NHL\",2.091786384016989 + (-2.38731072820827 * ABS(F2-G2)) + (0.22958352701799625 * (F2+G2)),\n",
      "IF(E2=\"NFL\",-0.19698866241592228 + (-0.246594417674967 * ABS(F2-G2)) + (0.045574144300318406 * (F2+G2)),\n",
      "IF(E2=\"WNBA\",-2.5758593989873013 + (-0.27744409686516663 * ABS(F2-G2)) + (0.028596702101367385 * (F2+G2)),\n",
      "IF(E2=\"AUSSIEFOOTBALL\",1.5123921616623752 + (-0.1096489637882529 * ABS(F2-G2)) + (0.0034495873337899866 * (F2+G2)),\n",
      "IF(E2=\"TENNIS\",-3.5501038332656374 + (-0.015110910597566052 * ABS(F2-G2)) + (0.35456330806887515 * (F2+G2)),\n",
      "IF(E2=\"RUGBYLEAGUE\",2.097995315071953 + (-0.3687079746360659 * ABS(F2-G2)) + (0.011017203033411098 * (F2+G2)),\n",
      "IF(E2=\"RUGBYUNION\",-0.3087222947264414 + (-0.2264749295927221 * ABS(F2-G2)) + (0.04673101487364458 * (F2+G2)),\n",
      "IF(E2=\"CRICKET\",-1.032338515049512 + (-0.02859939387982687 * ABS(F2-G2)) + (0.0040885563880545895 * (F2+G2)),\n"
     ]
    }
   ],
   "source": [
    "build_sport_model('NCAAB')\n",
    "build_sport_model('NCAABW')\n",
    "build_sport_model('MLB')\n",
    "build_sport_model('NCAAF')\n",
    "build_sport_model('SOCCER')\n",
    "build_sport_model('NBA')\n",
    "build_sport_model('NHL')\n",
    "build_sport_model('NFL')\n",
    "build_sport_model('WNBA')\n",
    "build_sport_model('AUSSIEFOOTBALL')\n",
    "build_sport_model('TENNIS')\n",
    "build_sport_model('RUGBYLEAGUE')\n",
    "build_sport_model('RUGBYUNION')\n",
    "build_sport_model('CRICKET')"
   ]
  }
 ],
 "metadata": {
  "kernelspec": {
   "display_name": "Python 3",
   "language": "python",
   "name": "python3"
  },
  "language_info": {
   "codemirror_mode": {
    "name": "ipython",
    "version": 3
   },
   "file_extension": ".py",
   "mimetype": "text/x-python",
   "name": "python",
   "nbconvert_exporter": "python",
   "pygments_lexer": "ipython3",
   "version": "3.7.6"
  }
 },
 "nbformat": 4,
 "nbformat_minor": 4
}
