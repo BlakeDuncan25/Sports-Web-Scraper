{
 "cells": [
  {
   "cell_type": "code",
   "execution_count": 5,
   "metadata": {},
   "outputs": [],
   "source": [
    "import pandas as pd\n",
    "import numpy as np\n",
    "from scipy import stats\n",
    "from sklearn.linear_model import LogisticRegression\n",
    "\n",
    "def build_sport_model(sport):\n",
    "    df = pd.read_csv('/Users/blakeduncan/Downloads/RUWT.csv')\n",
    "    df = df[df['sport']==sport]\n",
    "    \n",
    "    X = df[['score_diff', 'score_sum']]\n",
    "    y = df['rating']\n",
    "    \n",
    "    model = LogisticRegression()\n",
    "\n",
    "    model.fit(\n",
    "        X=X,\n",
    "        y=y,\n",
    "        sample_weight=np.array([1 / np.mean(df['rating']) if y == 1 else 1 / (1 - np.mean(df['rating'])) for y in df['rating']])\n",
    "    )\n",
    "    \n",
    "    accuracy = model.score(X, y, sample_weight=np.array([1 / np.mean(df['rating']) if y == 1 else 1 / (1 - np.mean(df['rating'])) for y in df['rating']]))\n",
    "    \n",
    "    return print(f'{sport}: {accuracy}')\n",
    "    #return print(f'IF(E2=\"{sport}\",{float(model.intercept_)} + ({float(np.transpose(model.coef_)[0])} * ABS(F2-G2)) + ({float(np.transpose(model.coef_)[1])} * (F2+G2)),')"
   ]
  },
  {
   "cell_type": "code",
   "execution_count": 6,
   "metadata": {},
   "outputs": [
    {
     "name": "stdout",
     "output_type": "stream",
     "text": [
      "NCAAB: 0.7856652486751889\n",
      "NCAABW: 0.8016007648481903\n",
      "MLB: 0.7017221047105572\n",
      "NCAAF: 0.8097786133746018\n",
      "SOCCER: 0.674270405238012\n",
      "NBA: 0.7724116558265447\n",
      "NHL: 0.798017187607226\n",
      "NFL: 0.783257962809537\n",
      "WNBA: 0.7616518656323493\n",
      "AUSSIEFOOTBALL: 0.8070859114707283\n",
      "TENNIS: 0.6484850663981975\n",
      "RUGBYLEAGUE: 0.8280096170358922\n",
      "RUGBYUNION: 0.8039890474258805\n",
      "CRICKET: 0.7643196355882923\n"
     ]
    }
   ],
   "source": [
    "build_sport_model('NCAAB')\n",
    "build_sport_model('NCAABW')\n",
    "build_sport_model('MLB')\n",
    "build_sport_model('NCAAF')\n",
    "build_sport_model('SOCCER')\n",
    "build_sport_model('NBA')\n",
    "build_sport_model('NHL')\n",
    "build_sport_model('NFL')\n",
    "build_sport_model('WNBA')\n",
    "build_sport_model('AUSSIEFOOTBALL')\n",
    "build_sport_model('TENNIS')\n",
    "build_sport_model('RUGBYLEAGUE')\n",
    "build_sport_model('RUGBYUNION')\n",
    "build_sport_model('CRICKET')"
   ]
  }
 ],
 "metadata": {
  "kernelspec": {
   "display_name": "Python 3",
   "language": "python",
   "name": "python3"
  },
  "language_info": {
   "codemirror_mode": {
    "name": "ipython",
    "version": 3
   },
   "file_extension": ".py",
   "mimetype": "text/x-python",
   "name": "python",
   "nbconvert_exporter": "python",
   "pygments_lexer": "ipython3",
   "version": "3.7.6"
  }
 },
 "nbformat": 4,
 "nbformat_minor": 4
}
