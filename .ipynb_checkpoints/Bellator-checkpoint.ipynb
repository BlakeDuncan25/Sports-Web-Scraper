{
 "cells": [
  {
   "cell_type": "code",
   "execution_count": 1,
   "metadata": {},
   "outputs": [],
   "source": [
    "import pandas as pd\n",
    "import numpy as np\n",
    "from scipy import stats\n",
    "from sklearn.linear_model import LogisticRegression"
   ]
  },
  {
   "cell_type": "code",
   "execution_count": 2,
   "metadata": {},
   "outputs": [],
   "source": [
    "df = pd.read_csv('/Users/blakeduncan/Downloads/Sports - Bellator.csv')"
   ]
  },
  {
   "cell_type": "code",
   "execution_count": 3,
   "metadata": {},
   "outputs": [
    {
     "name": "stdout",
     "output_type": "stream",
     "text": [
      "0.7374338624338624\n",
      "[-1.2595457]\n",
      "[[-0.33087973 -0.64162618  1.97333458  1.84653252  0.09536855  0.01015456]]\n"
     ]
    }
   ],
   "source": [
    "X = df[['U-DEC', 'S-DEC', 'KO', 'SUB', 'ROUNDS', 'MINUTES']]\n",
    "y = df['FOTN']\n",
    "\n",
    "model = LogisticRegression(max_iter=1000)\n",
    "\n",
    "model.fit(\n",
    "    X=X,\n",
    "    y=y,\n",
    "    sample_weight=np.array([1 / np.mean(df['FOTN']) if y == 1 else 1 / (1 - np.mean(df['FOTN'])) for y in df['FOTN']])\n",
    ")\n",
    "\n",
    "accuracy = model.score(X, y, sample_weight=np.array([1 / np.mean(df['FOTN']) if y == 1 else 1 / (1 - np.mean(df['FOTN'])) for y in df['FOTN']]))\n",
    "print(accuracy)\n",
    "print(model.intercept_)\n",
    "print(model.coef_)"
   ]
  }
 ],
 "metadata": {
  "kernelspec": {
   "display_name": "Python 3",
   "language": "python",
   "name": "python3"
  },
  "language_info": {
   "codemirror_mode": {
    "name": "ipython",
    "version": 3
   },
   "file_extension": ".py",
   "mimetype": "text/x-python",
   "name": "python",
   "nbconvert_exporter": "python",
   "pygments_lexer": "ipython3",
   "version": "3.7.6"
  }
 },
 "nbformat": 4,
 "nbformat_minor": 4
}
