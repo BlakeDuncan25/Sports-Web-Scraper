{
 "cells": [
  {
   "cell_type": "code",
   "execution_count": 51,
   "metadata": {},
   "outputs": [],
   "source": [
    "import pandas as pd\n",
    "import numpy as np\n",
    "from scipy import stats\n",
    "from sklearn.linear_model import LogisticRegression\n",
    "\n",
    "def build_sport_model(sport):\n",
    "    df = pd.read_csv('/Users/blakeduncan/Downloads/RUWT.csv')\n",
    "    df = df[df['sport']==sport]\n",
    "    \n",
    "    df = df[['score_diff', 'score_sum', 'rating']]\n",
    "    \n",
    "    z = np.abs(stats.zscore(df))\n",
    "    df = df[(z < 4).all(axis=1)]\n",
    "    \n",
    "    X = df[['score_diff', 'score_sum']]\n",
    "    y = df['rating']\n",
    "    \n",
    "    model = LogisticRegression()\n",
    "\n",
    "    model.fit(\n",
    "        X=X,\n",
    "        y=y,\n",
    "        sample_weight=np.array([1 / np.mean(df['rating']) if y == 1 else 1 / (1 - np.mean(df['rating'])) for y in df['rating']])\n",
    "    )\n",
    "    \n",
    "    return print(f'IF(E2=\"{sport}\",{float(model.intercept_)} + ({float(np.transpose(model.coef_)[0])} * ABS(F2-G2)) + ({float(np.transpose(model.coef_)[1])} * (F2+G2)),')"
   ]
  },
  {
   "cell_type": "code",
   "execution_count": 52,
   "metadata": {},
   "outputs": [
    {
     "name": "stdout",
     "output_type": "stream",
     "text": [
      "IF(E2=\"NCAAB\",-0.0015638188771702392 + (-0.34310087164668807 * ABS(F2-G2)) + (0.01731818785594045 * (F2+G2)),\n",
      "IF(E2=\"SOCCER\",-0.4226218235644197 + (-0.7902910095708349 * ABS(F2-G2)) + (0.4355209459289246 * (F2+G2)),\n",
      "IF(E2=\"NCAABW\",-0.5119672859571822 + (-0.35217883060719896 * ABS(F2-G2)) + (0.024167620733409084 * (F2+G2)),\n",
      "IF(E2=\"MLB\",0.30571690551925945 + (-0.46302798931986183 * ABS(F2-G2)) + (0.10271890467103993 * (F2+G2)),\n",
      "IF(E2=\"NCAAF\",0.44906684521198054 + (-0.20983058338377786 * ABS(F2-G2)) + (0.026959275847210456 * (F2+G2)),\n",
      "IF(E2=\"NHL\",1.682320063344591 + (-2.3612436242620034 * ABS(F2-G2)) + (0.3300615385578853 * (F2+G2)),\n",
      "IF(E2=\"NBA\",-1.8474910953836179 + (-0.3149773819380084 * ABS(F2-G2)) + (0.020086972108114807 * (F2+G2)),\n",
      "IF(E2=\"TENNIS\",-3.517530188207623 + (-0.013230148909551173 * ABS(F2-G2)) + (0.3573791610405025 * (F2+G2)),\n",
      "IF(E2=\"NFL\",-0.6043833558402826 + (-0.24500003109550675 * ABS(F2-G2)) + (0.05562206035553122 * (F2+G2)),\n",
      "IF(E2=\"WNBA\",-2.164930933554585 + (-0.28045321589142025 * ABS(F2-G2)) + (0.026422808670374325 * (F2+G2)),\n",
      "IF(E2=\"AUSSIEFOOTBALL\",1.675757101809277 + (-0.1639969927578449 * ABS(F2-G2)) + (0.010577443938445107 * (F2+G2)),\n",
      "IF(E2=\"RUGBYUNION\",-1.2376402725453475 + (-0.29797172302025743 * ABS(F2-G2)) + (0.09109659307280793 * (F2+G2)),\n",
      "IF(E2=\"RUGBYLEAGUE\",3.113720677191166 + (-0.7479026213315347 * ABS(F2-G2)) + (0.06415123799988418 * (F2+G2)),\n",
      "IF(E2=\"CRICKET\",-0.9555244071157972 + (-0.026200918474959495 * ABS(F2-G2)) + (0.003833216519341453 * (F2+G2)),\n"
     ]
    }
   ],
   "source": [
    "build_sport_model('NCAAB')\n",
    "build_sport_model('SOCCER')\n",
    "build_sport_model('NCAABW')\n",
    "build_sport_model('MLB')\n",
    "build_sport_model('NCAAF')\n",
    "build_sport_model('NHL')\n",
    "build_sport_model('NBA')\n",
    "build_sport_model('TENNIS')\n",
    "build_sport_model('NFL')\n",
    "build_sport_model('WNBA')\n",
    "build_sport_model('AUSSIEFOOTBALL')\n",
    "build_sport_model('RUGBYUNION')\n",
    "build_sport_model('RUGBYLEAGUE')\n",
    "build_sport_model('CRICKET')"
   ]
  }
 ],
 "metadata": {
  "kernelspec": {
   "display_name": "Python 3",
   "language": "python",
   "name": "python3"
  },
  "language_info": {
   "codemirror_mode": {
    "name": "ipython",
    "version": 3
   },
   "file_extension": ".py",
   "mimetype": "text/x-python",
   "name": "python",
   "nbconvert_exporter": "python",
   "pygments_lexer": "ipython3",
   "version": "3.7.6"
  }
 },
 "nbformat": 4,
 "nbformat_minor": 4
}
