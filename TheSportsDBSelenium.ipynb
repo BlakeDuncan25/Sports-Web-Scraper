{
 "cells": [
  {
   "cell_type": "code",
   "execution_count": 1,
   "id": "reasonable-detroit",
   "metadata": {},
   "outputs": [],
   "source": [
    "from selenium import webdriver\n",
    "import pandas as pd\n",
    "\n",
    "option = webdriver.ChromeOptions()\n",
    "\n",
    "browser = webdriver.Chrome(executable_path='/Users/blakeduncan/Documents/chromedriver', options=option)"
   ]
  },
  {
   "cell_type": "code",
   "execution_count": 3,
   "id": "provincial-zambia",
   "metadata": {},
   "outputs": [],
   "source": [
    "def thesportsdb_login(username, password):\n",
    "    browser.get(\"https://www.thesportsdb.com/\")\n",
    "    browser.find_element_by_xpath(\"//*[@id='header']/nav/div/div[2]/ul/li[6]/a[1]\").click()\n",
    "    browser.find_element_by_xpath(\"//*[@id='feature']/div/div[3]/div/form/div[1]/input\").send_keys(username)\n",
    "    browser.find_element_by_xpath(\"//*[@id='feature']/div/div[3]/div/form/div[2]/input\").send_keys(password)\n",
    "    browser.find_element_by_xpath(\"//*[@id='rememberme']\").click()\n",
    "    browser.find_element_by_xpath(\"//*[@id='feature']/div/div[3]/div/form/div[4]/input\").click()\n",
    "\n",
    "def add_event(league, date, starttime, season, hometeam, awayteam, week):\n",
    "    for i in range(len(league)):\n",
    "        browser.get(f\"https://www.thesportsdb.com/edit_event_add.php?l={league[i]}\")\n",
    "        browser.find_element_by_xpath(\"//*[@id='datepicker']\").send_keys(date[i])\n",
    "        browser.find_element_by_xpath(\"//*[@id='starttime']\").send_keys(starttime[i])\n",
    "        browser.find_element_by_xpath(\"//*[@id='season']\").send_keys(season[i])\n",
    "        browser.find_element_by_xpath(\"//*[@id='hometeam']\").send_keys(hometeam[i])\n",
    "        browser.find_element_by_xpath(\"//*[@id='awayteam']\").send_keys(awayteam[i])\n",
    "        browser.find_element_by_xpath(\"//*[@id='round']\").send_keys(week[i])\n",
    "        browser.find_element_by_xpath(\"//*[@id='submit']\").click()\n",
    "\n",
    "def add_score(league, date, starttime, season, hometeam, awayteam, homescore, awayscore, week):\n",
    "    for i in range(len(league)):\n",
    "        browser.get(f\"https://www.thesportsdb.com/edit_event_add.php?l={league[i]}\")\n",
    "        browser.find_element_by_xpath(\"//*[@id='datepicker']\").send_keys(date[i])\n",
    "        browser.find_element_by_xpath(\"//*[@id='starttime']\").send_keys(starttime[i])\n",
    "        browser.find_element_by_xpath(\"//*[@id='season']\").send_keys(season[i])\n",
    "        browser.find_element_by_xpath(\"//*[@id='hometeam']\").send_keys(hometeam[i])\n",
    "        browser.find_element_by_xpath(\"//*[@id='awayteam']\").send_keys(awayteam[i])\n",
    "        browser.find_element_by_xpath(\"//*[@id='homescore']\").send_keys(homescore[i])\n",
    "        browser.find_element_by_xpath(\"//*[@id='awayscore']\").send_keys(awayscore[i])\n",
    "        browser.find_element_by_xpath(\"//*[@id='round']\").send_keys(week[i])\n",
    "        browser.find_element_by_xpath(\"//*[@id='submit']\").click()\n",
    "\n",
    "def add_player(team, fullname, dob, position, nationality):\n",
    "    for i in range(len(team)):\n",
    "        browser.get(f\"https://www.thesportsdb.com/edit_player_add.php?t={team[i]}\")\n",
    "        browser.find_element_by_xpath(\"//*[@id='fullname']\").send_keys(fullname[i])\n",
    "        browser.find_element_by_xpath(\"//*[@id='datepicker']\").send_keys(dob[i])\n",
    "        browser.find_element_by_xpath(\"//*[@id='position']\").send_keys(position[i])\n",
    "        browser.find_element_by_xpath(\"//*[@id='countries']\").send_keys(nationality[i])\n",
    "        browser.find_element_by_xpath(\"//*[@id='submit']\").click()"
   ]
  },
  {
   "cell_type": "code",
   "execution_count": null,
   "id": "photographic-armor",
   "metadata": {},
   "outputs": [],
   "source": [
    "thesportsdb_login(\"cardinaldiehard25\", \"HHtW3b64iW4SAR@\")"
   ]
  },
  {
   "cell_type": "code",
   "execution_count": 5,
   "id": "heavy-crossing",
   "metadata": {},
   "outputs": [],
   "source": [
    "event_csv = pd.read_csv(\"/Users/blakeduncan/Downloads/event.csv\")\n",
    "\n",
    "league = event_csv.league.tolist()\n",
    "date = event_csv.date.tolist()\n",
    "starttime = event_csv.starttime.tolist()\n",
    "season = event_csv.season.tolist()\n",
    "hometeam = event_csv.hometeam.tolist()\n",
    "awayteam = event_csv.awayteam.tolist()\n",
    "week = event_csv.week.tolist()\n",
    "\n",
    "add_event(league, date, starttime, season, hometeam, awayteam, week)"
   ]
  },
  {
   "cell_type": "code",
   "execution_count": 7,
   "id": "received-customs",
   "metadata": {},
   "outputs": [],
   "source": [
    "score_csv = pd.read_csv(\"/Users/blakeduncan/Downloads/score.csv\")\n",
    "\n",
    "league = score_csv.league.tolist()\n",
    "date = score_csv.date.tolist()\n",
    "starttime = score_csv.starttime.tolist()\n",
    "season = score_csv.season.tolist()\n",
    "hometeam = score_csv.hometeam.tolist()\n",
    "awayteam = score_csv.awayteam.tolist()\n",
    "homescore = score_csv.homescore.tolist()\n",
    "awayscore = score_csv.awayscore.tolist()\n",
    "week = score_csv.week.tolist()\n",
    "\n",
    "add_score(league, date, starttime, season, hometeam, awayteam, homescore, awayscore, week)"
   ]
  },
  {
   "cell_type": "code",
   "execution_count": null,
   "id": "treated-radar",
   "metadata": {},
   "outputs": [],
   "source": [
    "player_csv = pd.read_csv(\"/Users/blakeduncan/Downloads/player.csv\")\n",
    "\n",
    "team = player_csv.team.tolist()\n",
    "fullname = player_csv.fullname.tolist()\n",
    "dob = player_csv.dob.tolist()\n",
    "position = player_csv.position.tolist()\n",
    "nationality = player_csv.nationality.tolist()\n",
    "\n",
    "add_player(team, fullname, dob, position, nationality)"
   ]
  }
 ],
 "metadata": {
  "kernelspec": {
   "display_name": "Python 3",
   "language": "python",
   "name": "python3"
  },
  "language_info": {
   "codemirror_mode": {
    "name": "ipython",
    "version": 3
   },
   "file_extension": ".py",
   "mimetype": "text/x-python",
   "name": "python",
   "nbconvert_exporter": "python",
   "pygments_lexer": "ipython3",
   "version": "3.7.6"
  }
 },
 "nbformat": 4,
 "nbformat_minor": 5
}
