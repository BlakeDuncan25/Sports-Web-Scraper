{
 "cells": [
  {
   "cell_type": "code",
   "execution_count": null,
   "id": "linear-honolulu",
   "metadata": {},
   "outputs": [],
   "source": [
    "from selenium import webdriver\n",
    "import pandas as pd\n",
    "\n",
    "option = webdriver.ChromeOptions()\n",
    "\n",
    "browser = webdriver.Chrome(executable_path='/Users/blakeduncan/Documents/chromedriver', options=option)"
   ]
  },
  {
   "cell_type": "code",
   "execution_count": null,
   "id": "personal-wrapping",
   "metadata": {},
   "outputs": [],
   "source": [
    "def add_event(league, date, starttime, season, hometeam, awayteam, week):\n",
    "    for i in range(len(league)):\n",
    "        browser.get(f\"https://www.thesportsdb.com/edit_event_add.php?l={league}\")\n",
    "        browser.find_element_by_xpath(\"//*[@id='datepicker']\").send_keys(date)\n",
    "        browser.find_element_by_xpath(\"//*[@id='starttime']\").send_keys(starttime)\n",
    "        browser.find_element_by_xpath(\"//*[@id='season']\").send_keys(season)\n",
    "        browser.find_element_by_xpath(\"//*[@id='hometeam']\").send_keys(hometeam)\n",
    "        browser.find_element_by_xpath(\"//*[@id='awayteam']\").send_keys(awayteam)\n",
    "        browser.find_element_by_xpath(\"//*[@id='round']\").send_keys(week)\n",
    "        browser.find_element_by_xpath(\"//*[@id='submit']\").click()"
   ]
  },
  {
   "cell_type": "code",
   "execution_count": null,
   "id": "typical-period",
   "metadata": {},
   "outputs": [],
   "source": [
    "event_csv = pd.read_csv(\"/Users/blakeduncan/Downloads/Team Comparison - Events.csv\")"
   ]
  },
  {
   "cell_type": "code",
   "execution_count": null,
   "id": "planned-prevention",
   "metadata": {},
   "outputs": [],
   "source": [
    "league = event_csv.league.tolist()\n",
    "date = event_csv.date.tolist()\n",
    "starttime = event_csv.starttime.tolist()\n",
    "season = event_csv.season.tolist()\n",
    "hometeam = event_csv.hometeam.tolist()\n",
    "awayteam = event_csv.awayteam.tolist()\n",
    "week = event_csv.week.tolist()"
   ]
  },
  {
   "cell_type": "code",
   "execution_count": null,
   "id": "threatened-substance",
   "metadata": {},
   "outputs": [],
   "source": [
    "add_event(league, date, starttime, season, hometeam, awayteam, week)"
   ]
  },
  {
   "cell_type": "code",
   "execution_count": null,
   "id": "smaller-crime",
   "metadata": {},
   "outputs": [],
   "source": [
    "def add_player(team, fullname, dob, position, nationality):\n",
    "    for i in range(len(team)):\n",
    "        browser.get(f\"https://www.thesportsdb.com/edit_player_add.php?t={team[i]}\")\n",
    "        browser.find_element_by_xpath(\"//*[@id='fullname']\").send_keys(fullname[i])\n",
    "        browser.find_element_by_xpath(\"//*[@id='datepicker']\").send_keys(dob[i])\n",
    "        browser.find_element_by_xpath(\"//*[@id='position']\").send_keys(position[i])\n",
    "        browser.find_element_by_xpath(\"//*[@id='countries']\").send_keys(nationality[i])\n",
    "        browser.find_element_by_xpath(\"//*[@id='submit']\").click()"
   ]
  },
  {
   "cell_type": "code",
   "execution_count": null,
   "id": "german-microwave",
   "metadata": {},
   "outputs": [],
   "source": [
    "player_csv = pd.read_csv(\"/Users/blakeduncan/Downloads/Team Comparison - Players.csv\")"
   ]
  },
  {
   "cell_type": "code",
   "execution_count": null,
   "id": "deluxe-reality",
   "metadata": {},
   "outputs": [],
   "source": [
    "team = player_csv.team.tolist()\n",
    "fullname = player_csv.fullname.tolist()\n",
    "dob = player_csv.dob.tolist()\n",
    "position = player_csv.position.tolist()\n",
    "nationality = player_csv.nationality.tolist()"
   ]
  },
  {
   "cell_type": "code",
   "execution_count": null,
   "id": "promotional-joining",
   "metadata": {},
   "outputs": [],
   "source": [
    "add_player(team, fullname, dob, position, nationality)"
   ]
  }
 ],
 "metadata": {
  "kernelspec": {
   "display_name": "Python 3",
   "language": "python",
   "name": "python3"
  },
  "language_info": {
   "codemirror_mode": {
    "name": "ipython",
    "version": 3
   },
   "file_extension": ".py",
   "mimetype": "text/x-python",
   "name": "python",
   "nbconvert_exporter": "python",
   "pygments_lexer": "ipython3",
   "version": "3.7.6"
  }
 },
 "nbformat": 4,
 "nbformat_minor": 5
}
