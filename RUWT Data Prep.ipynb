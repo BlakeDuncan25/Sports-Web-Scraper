{
 "cells": [
  {
   "cell_type": "code",
   "execution_count": 1,
   "metadata": {},
   "outputs": [],
   "source": [
    "import requests\n",
    "from bs4 import BeautifulSoup\n",
    "import re\n",
    "import pandas as pd\n",
    "import itertools\n",
    "\n",
    "\n",
    "def ruwt_scraper(date, excitement, rating):\n",
    "    URL = f\"https://areyouwatchingthis.com/scores/{date}\"\n",
    "\n",
    "    page = requests.get(URL)\n",
    "\n",
    "    soup = BeautifulSoup(page.content, \"html.parser\")\n",
    "\n",
    "    ruwt_class = soup.find_all(\"li\", attrs={\"class\": excitement})\n",
    "\n",
    "    data = []\n",
    "    data_dict = {}\n",
    "    for i in ruwt_class:\n",
    "        try:\n",
    "            score1 = int(re.sub(\"\\D\", \"\", i.find_all(\"span\", class_=\"score\")[0].text))\n",
    "        except IndexError:\n",
    "            score1 = 0\n",
    "        try:\n",
    "            score2 = int(re.sub(\"\\D\", \"\", i.find_all(\"span\", class_=\"score\")[1].text))\n",
    "        except IndexError:\n",
    "            score2 = 0\n",
    "        try:\n",
    "            team1 = i.find_all(\"a\", class_=\"team\")[0].text.strip()\n",
    "        except IndexError:\n",
    "            team1 = i.find(\"a\", class_=\"field\").text.strip()\n",
    "        try:\n",
    "            team2 = i.find_all(\"a\", class_=\"team\")[1].text.strip()\n",
    "        except IndexError:\n",
    "            team2 = \"\"\n",
    "        data_dict = {\n",
    "            \"sport\": i.find(\"a\", class_=\"sport\").text.strip(),\n",
    "            \"team1\": team1,\n",
    "            \"team2\": team2,\n",
    "            \"score1\": score1,\n",
    "            \"score2\": score2,\n",
    "            \"score_diff\": abs(score1 - score2),\n",
    "            \"score_sum\": score1 + score2,\n",
    "            \"rating\": rating,\n",
    "        }\n",
    "        data.append(data_dict)\n",
    "\n",
    "    df = pd.DataFrame(data)\n",
    "\n",
    "    return df\n",
    "\n",
    "\n",
    "def this_date_in_ruwt(date):\n",
    "    df_severe = ruwt_scraper(date, \"severe\", 1)\n",
    "    df_high = ruwt_scraper(date, \"high\", 1)\n",
    "    df_elevated = ruwt_scraper(date, \"elevated\", 0)\n",
    "    df_guarded = ruwt_scraper(date, \"guarded\", 0)\n",
    "    pdList = [df_severe, df_high, df_elevated, df_guarded]\n",
    "    df = pd.concat(pdList)\n",
    "\n",
    "    df.to_csv(f\"/Users/blakeduncan/Downloads/RUWT/{date}.csv\", index=False)\n",
    "\n",
    "    return df"
   ]
  },
  {
   "cell_type": "code",
   "execution_count": 2,
   "metadata": {},
   "outputs": [],
   "source": [
    "date = []\n",
    "for i in date:\n",
    "    this_date_in_ruwt(i)"
   ]
  },
  {
   "cell_type": "code",
   "execution_count": 3,
   "metadata": {},
   "outputs": [],
   "source": [
    "import pandas as pd\n",
    "import glob\n",
    "\n",
    "path = r\"/Users/blakeduncan/Downloads/RUWT\"  # use your path\n",
    "all_files = glob.glob(path + \"/*.csv\")\n",
    "\n",
    "li = []\n",
    "\n",
    "for filename in all_files:\n",
    "    df = pd.read_csv(filename)\n",
    "    li.append(df)\n",
    "\n",
    "frame = pd.concat(li, axis=0, ignore_index=True)"
   ]
  },
  {
   "cell_type": "code",
   "execution_count": 4,
   "metadata": {},
   "outputs": [],
   "source": [
    "frame.to_csv(f\"/Users/blakeduncan/Downloads/RUWT.csv\", index=False)"
   ]
  },
  {
   "cell_type": "code",
   "execution_count": 5,
   "metadata": {},
   "outputs": [
    {
     "name": "stdout",
     "output_type": "stream",
     "text": [
      "NCAAB             75312\n",
      "NCAABW            58171\n",
      "MLB               36496\n",
      "NCAAF             35952\n",
      "SOCCER            29334\n",
      "NBA               18091\n",
      "NHL               18031\n",
      "AHL                8365\n",
      "NCAAH              7971\n",
      "ECHL               6298\n",
      "MMA                4839\n",
      "NFL                4326\n",
      "NBDL               3525\n",
      "WNBA               3067\n",
      "AUSSIEFOOTBALL     2437\n",
      "TENNIS             2249\n",
      "RUGBYLEAGUE        2238\n",
      "RUGBYUNION         2158\n",
      "RACING             1768\n",
      "AFL                1114\n",
      "CHL                 973\n",
      "CFL                 781\n",
      "NETBALL             753\n",
      "CRICKET             690\n",
      "ESPORTS             603\n",
      "BOXING              435\n",
      "CBA                 373\n",
      "GOLF                303\n",
      "AF2                 289\n",
      "UHL                 259\n",
      "NBL                 232\n",
      "LACROSSE            195\n",
      "NCAABASEBALL         48\n",
      "WBC                  42\n",
      "NFLEUROPA            31\n",
      "LLWS                 27\n",
      "OLYMPICS             18\n",
      "Name: sport, dtype: int64\n"
     ]
    }
   ],
   "source": [
    "frame = frame[\"sport\"].value_counts()\n",
    "print(frame)"
   ]
  }
 ],
 "metadata": {
  "kernelspec": {
   "display_name": "Python 3",
   "language": "python",
   "name": "python3"
  },
  "language_info": {
   "codemirror_mode": {
    "name": "ipython",
    "version": 3
   },
   "file_extension": ".py",
   "mimetype": "text/x-python",
   "name": "python",
   "nbconvert_exporter": "python",
   "pygments_lexer": "ipython3",
   "version": "3.7.6"
  }
 },
 "nbformat": 4,
 "nbformat_minor": 4
}
